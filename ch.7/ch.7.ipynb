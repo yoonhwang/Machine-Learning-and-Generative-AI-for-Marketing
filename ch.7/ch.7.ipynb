{
 "cells": [
  {
   "cell_type": "code",
   "execution_count": 1,
   "id": "364eb122-d40e-4a27-ad07-de0933a4079c",
   "metadata": {},
   "outputs": [],
   "source": [
    "%matplotlib inline"
   ]
  },
  {
   "cell_type": "code",
   "execution_count": 2,
   "id": "cffafd4b-ddc5-4c0a-a9df-bd7e43989c94",
   "metadata": {},
   "outputs": [],
   "source": [
    "import matplotlib.pyplot as plt"
   ]
  },
  {
   "cell_type": "code",
   "execution_count": 3,
   "id": "7a80764b-f271-4480-9987-e23b59c27a8d",
   "metadata": {},
   "outputs": [],
   "source": [
    "import pandas as pd"
   ]
  },
  {
   "cell_type": "code",
   "execution_count": 4,
   "id": "b3acd6b8-5363-4a58-80a4-bd8edd3b2c59",
   "metadata": {},
   "outputs": [],
   "source": [
    "import numpy as np"
   ]
  },
  {
   "cell_type": "code",
   "execution_count": 5,
   "id": "1f789af9-8d60-4652-9792-f910e31c7436",
   "metadata": {},
   "outputs": [],
   "source": [
    "import seaborn as sns"
   ]
  },
  {
   "cell_type": "markdown",
   "id": "2656f69f-1326-4a52-9eec-d3323ccbeb13",
   "metadata": {},
   "source": [
    "# 0. Data\n",
    "\n",
    "Source & Description: https://archive.ics.uci.edu/dataset/352/online+retail"
   ]
  },
  {
   "cell_type": "code",
   "execution_count": 6,
   "id": "3da7471e-542f-429b-9eda-69b7e3b3a237",
   "metadata": {},
   "outputs": [],
   "source": [
    "df = pd.read_csv(\"./data.csv\")"
   ]
  },
  {
   "cell_type": "code",
   "execution_count": 7,
   "id": "97b0463d-ef91-41ee-8340-b625d6a75c43",
   "metadata": {},
   "outputs": [
    {
     "data": {
      "text/html": [
       "<div>\n",
       "<style scoped>\n",
       "    .dataframe tbody tr th:only-of-type {\n",
       "        vertical-align: middle;\n",
       "    }\n",
       "\n",
       "    .dataframe tbody tr th {\n",
       "        vertical-align: top;\n",
       "    }\n",
       "\n",
       "    .dataframe thead th {\n",
       "        text-align: right;\n",
       "    }\n",
       "</style>\n",
       "<table border=\"1\" class=\"dataframe\">\n",
       "  <thead>\n",
       "    <tr style=\"text-align: right;\">\n",
       "      <th></th>\n",
       "      <th>InvoiceNo</th>\n",
       "      <th>StockCode</th>\n",
       "      <th>Description</th>\n",
       "      <th>Quantity</th>\n",
       "      <th>InvoiceDate</th>\n",
       "      <th>UnitPrice</th>\n",
       "      <th>CustomerID</th>\n",
       "      <th>Country</th>\n",
       "    </tr>\n",
       "  </thead>\n",
       "  <tbody>\n",
       "    <tr>\n",
       "      <th>0</th>\n",
       "      <td>536365</td>\n",
       "      <td>85123A</td>\n",
       "      <td>WHITE HANGING HEART T-LIGHT HOLDER</td>\n",
       "      <td>6</td>\n",
       "      <td>12/1/10 8:26</td>\n",
       "      <td>2.55</td>\n",
       "      <td>17850.0</td>\n",
       "      <td>United Kingdom</td>\n",
       "    </tr>\n",
       "    <tr>\n",
       "      <th>1</th>\n",
       "      <td>536365</td>\n",
       "      <td>71053</td>\n",
       "      <td>WHITE METAL LANTERN</td>\n",
       "      <td>6</td>\n",
       "      <td>12/1/10 8:26</td>\n",
       "      <td>3.39</td>\n",
       "      <td>17850.0</td>\n",
       "      <td>United Kingdom</td>\n",
       "    </tr>\n",
       "    <tr>\n",
       "      <th>2</th>\n",
       "      <td>536365</td>\n",
       "      <td>84406B</td>\n",
       "      <td>CREAM CUPID HEARTS COAT HANGER</td>\n",
       "      <td>8</td>\n",
       "      <td>12/1/10 8:26</td>\n",
       "      <td>2.75</td>\n",
       "      <td>17850.0</td>\n",
       "      <td>United Kingdom</td>\n",
       "    </tr>\n",
       "    <tr>\n",
       "      <th>3</th>\n",
       "      <td>536365</td>\n",
       "      <td>84029G</td>\n",
       "      <td>KNITTED UNION FLAG HOT WATER BOTTLE</td>\n",
       "      <td>6</td>\n",
       "      <td>12/1/10 8:26</td>\n",
       "      <td>3.39</td>\n",
       "      <td>17850.0</td>\n",
       "      <td>United Kingdom</td>\n",
       "    </tr>\n",
       "    <tr>\n",
       "      <th>4</th>\n",
       "      <td>536365</td>\n",
       "      <td>84029E</td>\n",
       "      <td>RED WOOLLY HOTTIE WHITE HEART.</td>\n",
       "      <td>6</td>\n",
       "      <td>12/1/10 8:26</td>\n",
       "      <td>3.39</td>\n",
       "      <td>17850.0</td>\n",
       "      <td>United Kingdom</td>\n",
       "    </tr>\n",
       "  </tbody>\n",
       "</table>\n",
       "</div>"
      ],
      "text/plain": [
       "  InvoiceNo StockCode                          Description  Quantity  \\\n",
       "0    536365    85123A   WHITE HANGING HEART T-LIGHT HOLDER         6   \n",
       "1    536365     71053                  WHITE METAL LANTERN         6   \n",
       "2    536365    84406B       CREAM CUPID HEARTS COAT HANGER         8   \n",
       "3    536365    84029G  KNITTED UNION FLAG HOT WATER BOTTLE         6   \n",
       "4    536365    84029E       RED WOOLLY HOTTIE WHITE HEART.         6   \n",
       "\n",
       "    InvoiceDate  UnitPrice  CustomerID         Country  \n",
       "0  12/1/10 8:26       2.55     17850.0  United Kingdom  \n",
       "1  12/1/10 8:26       3.39     17850.0  United Kingdom  \n",
       "2  12/1/10 8:26       2.75     17850.0  United Kingdom  \n",
       "3  12/1/10 8:26       3.39     17850.0  United Kingdom  \n",
       "4  12/1/10 8:26       3.39     17850.0  United Kingdom  "
      ]
     },
     "execution_count": 7,
     "metadata": {},
     "output_type": "execute_result"
    }
   ],
   "source": [
    "df.head()"
   ]
  },
  {
   "cell_type": "code",
   "execution_count": 8,
   "id": "d29c7d68-71be-477b-9f11-b6edd2c715de",
   "metadata": {},
   "outputs": [
    {
     "data": {
      "text/plain": [
       "InvoiceNo           0\n",
       "StockCode           0\n",
       "Description      1454\n",
       "Quantity            0\n",
       "InvoiceDate         0\n",
       "UnitPrice           0\n",
       "CustomerID     135080\n",
       "Country             0\n",
       "dtype: int64"
      ]
     },
     "execution_count": 8,
     "metadata": {},
     "output_type": "execute_result"
    }
   ],
   "source": [
    "df.isna().sum()"
   ]
  },
  {
   "cell_type": "code",
   "execution_count": 9,
   "id": "e309969d-61cb-4559-a5f5-38d269bd579d",
   "metadata": {},
   "outputs": [],
   "source": [
    "df = df.dropna(subset=['CustomerID'])"
   ]
  },
  {
   "cell_type": "code",
   "execution_count": 10,
   "id": "2a3ea605-dd2c-4552-a680-6bd3c038b3b8",
   "metadata": {},
   "outputs": [
    {
     "data": {
      "text/plain": [
       "(406829, 8)"
      ]
     },
     "execution_count": 10,
     "metadata": {},
     "output_type": "execute_result"
    }
   ],
   "source": [
    "df.shape"
   ]
  },
  {
   "cell_type": "code",
   "execution_count": 11,
   "id": "19a76f09-7da7-4c0d-9e44-8355c26eb468",
   "metadata": {},
   "outputs": [
    {
     "data": {
      "text/plain": [
       "3684"
      ]
     },
     "execution_count": 11,
     "metadata": {},
     "output_type": "execute_result"
    }
   ],
   "source": [
    "df[\"StockCode\"].nunique()"
   ]
  },
  {
   "cell_type": "code",
   "execution_count": 12,
   "id": "a3eb230a-0f36-4119-844f-4dbdb5dd3c9a",
   "metadata": {},
   "outputs": [
    {
     "data": {
      "text/plain": [
       "4372"
      ]
     },
     "execution_count": 12,
     "metadata": {},
     "output_type": "execute_result"
    }
   ],
   "source": [
    "df[\"CustomerID\"].nunique()"
   ]
  },
  {
   "cell_type": "code",
   "execution_count": 13,
   "id": "92824f1b-63cf-4052-8280-d971be762929",
   "metadata": {},
   "outputs": [
    {
     "name": "stderr",
     "output_type": "stream",
     "text": [
      "/var/folders/cc/n153cd2x6qq8w175v23xx6zh0000gn/T/ipykernel_74672/3012402086.py:1: UserWarning: Could not infer format, so each element will be parsed individually, falling back to `dateutil`. To ensure parsing is consistent and as-expected, please specify a format.\n",
      "  df[\"InvoiceDate\"] = pd.to_datetime(df[\"InvoiceDate\"])\n"
     ]
    }
   ],
   "source": [
    "df[\"InvoiceDate\"] = pd.to_datetime(df[\"InvoiceDate\"])"
   ]
  },
  {
   "cell_type": "code",
   "execution_count": 14,
   "id": "627bae1b-ba41-4fdd-8dbe-a11803c35f62",
   "metadata": {},
   "outputs": [
    {
     "data": {
      "text/plain": [
       "count                           406829\n",
       "mean     2011-07-10 16:30:57.879207424\n",
       "min                2010-12-01 08:26:00\n",
       "25%                2011-04-06 15:02:00\n",
       "50%                2011-07-31 11:48:00\n",
       "75%                2011-10-20 13:06:00\n",
       "max                2011-12-09 12:50:00\n",
       "Name: InvoiceDate, dtype: object"
      ]
     },
     "execution_count": 14,
     "metadata": {},
     "output_type": "execute_result"
    }
   ],
   "source": [
    "df[\"InvoiceDate\"].describe()"
   ]
  },
  {
   "cell_type": "code",
   "execution_count": 15,
   "id": "f4189fe8-f196-4870-b2d5-3cebb6560f1a",
   "metadata": {},
   "outputs": [
    {
     "name": "stdout",
     "output_type": "stream",
     "text": [
      "CPU times: user 323 ms, sys: 99.9 ms, total: 423 ms\n",
      "Wall time: 422 ms\n"
     ]
    }
   ],
   "source": [
    "%%time\n",
    "\n",
    "customer_item_matrix = df.pivot_table(\n",
    "    index='CustomerID', \n",
    "    columns='StockCode', \n",
    "    values='Quantity',\n",
    "    aggfunc='sum'\n",
    ")"
   ]
  },
  {
   "cell_type": "code",
   "execution_count": 16,
   "id": "65ec50df-dab5-4fb0-9f7c-f87136682f5e",
   "metadata": {},
   "outputs": [
    {
     "data": {
      "text/plain": [
       "(4372, 3684)"
      ]
     },
     "execution_count": 16,
     "metadata": {},
     "output_type": "execute_result"
    }
   ],
   "source": [
    "customer_item_matrix.shape"
   ]
  },
  {
   "cell_type": "code",
   "execution_count": 17,
   "id": "2be2e22e-7b76-4d07-b7a3-1f7caa064e9d",
   "metadata": {},
   "outputs": [
    {
     "name": "stdout",
     "output_type": "stream",
     "text": [
      "CPU times: user 4.43 s, sys: 188 ms, total: 4.61 s\n",
      "Wall time: 4.71 s\n"
     ]
    }
   ],
   "source": [
    "%%time\n",
    "\n",
    "customer_item_matrix = customer_item_matrix.map(lambda x: 1 if x > 0 else 0)"
   ]
  },
  {
   "cell_type": "code",
   "execution_count": 18,
   "id": "8a5893d0-b1f0-4642-bf93-23d3e69ac0f2",
   "metadata": {},
   "outputs": [
    {
     "data": {
      "text/html": [
       "<div>\n",
       "<style scoped>\n",
       "    .dataframe tbody tr th:only-of-type {\n",
       "        vertical-align: middle;\n",
       "    }\n",
       "\n",
       "    .dataframe tbody tr th {\n",
       "        vertical-align: top;\n",
       "    }\n",
       "\n",
       "    .dataframe thead th {\n",
       "        text-align: right;\n",
       "    }\n",
       "</style>\n",
       "<table border=\"1\" class=\"dataframe\">\n",
       "  <thead>\n",
       "    <tr style=\"text-align: right;\">\n",
       "      <th>StockCode</th>\n",
       "      <th>10002</th>\n",
       "      <th>10080</th>\n",
       "      <th>10120</th>\n",
       "      <th>10123C</th>\n",
       "      <th>10124A</th>\n",
       "      <th>10124G</th>\n",
       "      <th>10125</th>\n",
       "      <th>10133</th>\n",
       "      <th>10135</th>\n",
       "      <th>11001</th>\n",
       "      <th>...</th>\n",
       "      <th>90214Y</th>\n",
       "      <th>90214Z</th>\n",
       "      <th>BANK CHARGES</th>\n",
       "      <th>C2</th>\n",
       "      <th>CRUK</th>\n",
       "      <th>D</th>\n",
       "      <th>DOT</th>\n",
       "      <th>M</th>\n",
       "      <th>PADS</th>\n",
       "      <th>POST</th>\n",
       "    </tr>\n",
       "    <tr>\n",
       "      <th>CustomerID</th>\n",
       "      <th></th>\n",
       "      <th></th>\n",
       "      <th></th>\n",
       "      <th></th>\n",
       "      <th></th>\n",
       "      <th></th>\n",
       "      <th></th>\n",
       "      <th></th>\n",
       "      <th></th>\n",
       "      <th></th>\n",
       "      <th></th>\n",
       "      <th></th>\n",
       "      <th></th>\n",
       "      <th></th>\n",
       "      <th></th>\n",
       "      <th></th>\n",
       "      <th></th>\n",
       "      <th></th>\n",
       "      <th></th>\n",
       "      <th></th>\n",
       "      <th></th>\n",
       "    </tr>\n",
       "  </thead>\n",
       "  <tbody>\n",
       "    <tr>\n",
       "      <th>12346.0</th>\n",
       "      <td>0</td>\n",
       "      <td>0</td>\n",
       "      <td>0</td>\n",
       "      <td>0</td>\n",
       "      <td>0</td>\n",
       "      <td>0</td>\n",
       "      <td>0</td>\n",
       "      <td>0</td>\n",
       "      <td>0</td>\n",
       "      <td>0</td>\n",
       "      <td>...</td>\n",
       "      <td>0</td>\n",
       "      <td>0</td>\n",
       "      <td>0</td>\n",
       "      <td>0</td>\n",
       "      <td>0</td>\n",
       "      <td>0</td>\n",
       "      <td>0</td>\n",
       "      <td>0</td>\n",
       "      <td>0</td>\n",
       "      <td>0</td>\n",
       "    </tr>\n",
       "    <tr>\n",
       "      <th>12347.0</th>\n",
       "      <td>0</td>\n",
       "      <td>0</td>\n",
       "      <td>0</td>\n",
       "      <td>0</td>\n",
       "      <td>0</td>\n",
       "      <td>0</td>\n",
       "      <td>0</td>\n",
       "      <td>0</td>\n",
       "      <td>0</td>\n",
       "      <td>0</td>\n",
       "      <td>...</td>\n",
       "      <td>0</td>\n",
       "      <td>0</td>\n",
       "      <td>0</td>\n",
       "      <td>0</td>\n",
       "      <td>0</td>\n",
       "      <td>0</td>\n",
       "      <td>0</td>\n",
       "      <td>0</td>\n",
       "      <td>0</td>\n",
       "      <td>0</td>\n",
       "    </tr>\n",
       "    <tr>\n",
       "      <th>12348.0</th>\n",
       "      <td>0</td>\n",
       "      <td>0</td>\n",
       "      <td>0</td>\n",
       "      <td>0</td>\n",
       "      <td>0</td>\n",
       "      <td>0</td>\n",
       "      <td>0</td>\n",
       "      <td>0</td>\n",
       "      <td>0</td>\n",
       "      <td>0</td>\n",
       "      <td>...</td>\n",
       "      <td>0</td>\n",
       "      <td>0</td>\n",
       "      <td>0</td>\n",
       "      <td>0</td>\n",
       "      <td>0</td>\n",
       "      <td>0</td>\n",
       "      <td>0</td>\n",
       "      <td>0</td>\n",
       "      <td>0</td>\n",
       "      <td>1</td>\n",
       "    </tr>\n",
       "    <tr>\n",
       "      <th>12349.0</th>\n",
       "      <td>0</td>\n",
       "      <td>0</td>\n",
       "      <td>0</td>\n",
       "      <td>0</td>\n",
       "      <td>0</td>\n",
       "      <td>0</td>\n",
       "      <td>0</td>\n",
       "      <td>0</td>\n",
       "      <td>0</td>\n",
       "      <td>0</td>\n",
       "      <td>...</td>\n",
       "      <td>0</td>\n",
       "      <td>0</td>\n",
       "      <td>0</td>\n",
       "      <td>0</td>\n",
       "      <td>0</td>\n",
       "      <td>0</td>\n",
       "      <td>0</td>\n",
       "      <td>0</td>\n",
       "      <td>0</td>\n",
       "      <td>1</td>\n",
       "    </tr>\n",
       "    <tr>\n",
       "      <th>12350.0</th>\n",
       "      <td>0</td>\n",
       "      <td>0</td>\n",
       "      <td>0</td>\n",
       "      <td>0</td>\n",
       "      <td>0</td>\n",
       "      <td>0</td>\n",
       "      <td>0</td>\n",
       "      <td>0</td>\n",
       "      <td>0</td>\n",
       "      <td>0</td>\n",
       "      <td>...</td>\n",
       "      <td>0</td>\n",
       "      <td>0</td>\n",
       "      <td>0</td>\n",
       "      <td>0</td>\n",
       "      <td>0</td>\n",
       "      <td>0</td>\n",
       "      <td>0</td>\n",
       "      <td>0</td>\n",
       "      <td>0</td>\n",
       "      <td>1</td>\n",
       "    </tr>\n",
       "  </tbody>\n",
       "</table>\n",
       "<p>5 rows × 3684 columns</p>\n",
       "</div>"
      ],
      "text/plain": [
       "StockCode   10002  10080  10120  10123C  10124A  10124G  10125  10133  10135  \\\n",
       "CustomerID                                                                     \n",
       "12346.0         0      0      0       0       0       0      0      0      0   \n",
       "12347.0         0      0      0       0       0       0      0      0      0   \n",
       "12348.0         0      0      0       0       0       0      0      0      0   \n",
       "12349.0         0      0      0       0       0       0      0      0      0   \n",
       "12350.0         0      0      0       0       0       0      0      0      0   \n",
       "\n",
       "StockCode   11001  ...  90214Y  90214Z  BANK CHARGES  C2  CRUK  D  DOT  M  \\\n",
       "CustomerID         ...                                                      \n",
       "12346.0         0  ...       0       0             0   0     0  0    0  0   \n",
       "12347.0         0  ...       0       0             0   0     0  0    0  0   \n",
       "12348.0         0  ...       0       0             0   0     0  0    0  0   \n",
       "12349.0         0  ...       0       0             0   0     0  0    0  0   \n",
       "12350.0         0  ...       0       0             0   0     0  0    0  0   \n",
       "\n",
       "StockCode   PADS  POST  \n",
       "CustomerID              \n",
       "12346.0        0     0  \n",
       "12347.0        0     0  \n",
       "12348.0        0     1  \n",
       "12349.0        0     1  \n",
       "12350.0        0     1  \n",
       "\n",
       "[5 rows x 3684 columns]"
      ]
     },
     "execution_count": 18,
     "metadata": {},
     "output_type": "execute_result"
    }
   ],
   "source": [
    "customer_item_matrix.head()"
   ]
  },
  {
   "cell_type": "markdown",
   "id": "86fd6458-11c2-4159-b625-f00c425a0c07",
   "metadata": {
    "tags": []
   },
   "source": [
    "# 1. Market Basket Analysis"
   ]
  },
  {
   "cell_type": "code",
   "execution_count": 19,
   "id": "9d645577-03ac-4a72-a25e-b4bbe4e43ea5",
   "metadata": {
    "scrolled": true,
    "tags": []
   },
   "outputs": [],
   "source": [
    "# pip install mlxtend"
   ]
  },
  {
   "cell_type": "code",
   "execution_count": 20,
   "id": "2b76497e-9477-4df2-87ae-f26e26ef43bd",
   "metadata": {},
   "outputs": [],
   "source": [
    "from mlxtend.frequent_patterns import apriori, association_rules"
   ]
  },
  {
   "cell_type": "code",
   "execution_count": 21,
   "id": "2ae93b51-c0a9-4585-bd46-4a2367c30c1c",
   "metadata": {},
   "outputs": [
    {
     "data": {
      "text/plain": [
       "Index(['15036', '15056BL', '15056N', '16156S', '16161P', '16161U', '16169E',\n",
       "       '16237', '17003', '20668',\n",
       "       ...\n",
       "       '85099B', '85099C', '85099F', '85123A', '85150', '85152', '85184C',\n",
       "       '85227', 'M', 'POST'],\n",
       "      dtype='object', name='StockCode', length=904)"
      ]
     },
     "execution_count": 21,
     "metadata": {},
     "output_type": "execute_result"
    }
   ],
   "source": [
    "at_least_100_sold_items = customer_item_matrix.columns[(customer_item_matrix.sum() > 100)]\n",
    "at_least_100_sold_items"
   ]
  },
  {
   "cell_type": "code",
   "execution_count": 22,
   "id": "6e1a4ddd-605e-41b5-a994-43d73b47251e",
   "metadata": {},
   "outputs": [
    {
     "data": {
      "text/plain": [
       "Index([12347.0, 12349.0, 12352.0, 12354.0, 12356.0, 12357.0, 12359.0, 12360.0,\n",
       "       12362.0, 12364.0,\n",
       "       ...\n",
       "       18248.0, 18252.0, 18257.0, 18259.0, 18260.0, 18263.0, 18265.0, 18272.0,\n",
       "       18283.0, 18287.0],\n",
       "      dtype='float64', name='CustomerID', length=2519)"
      ]
     },
     "execution_count": 22,
     "metadata": {},
     "output_type": "execute_result"
    }
   ],
   "source": [
    "at_least_20_purchase_customers = customer_item_matrix.loc[(customer_item_matrix[at_least_100_sold_items].sum(axis=1) >= 20)].index\n",
    "at_least_20_purchase_customers"
   ]
  },
  {
   "cell_type": "code",
   "execution_count": 23,
   "id": "d9ce9e23-9a1e-4f7a-910e-ebee3ed6d701",
   "metadata": {},
   "outputs": [
    {
     "data": {
      "text/plain": [
       "(2519, 904)"
      ]
     },
     "execution_count": 23,
     "metadata": {},
     "output_type": "execute_result"
    }
   ],
   "source": [
    "mb_matrix = customer_item_matrix.loc[at_least_20_purchase_customers][at_least_100_sold_items]\n",
    "mb_matrix.shape"
   ]
  },
  {
   "cell_type": "markdown",
   "id": "578f4734-79e3-49a0-a906-e434c315e3ed",
   "metadata": {},
   "source": [
    "## 1.1. Apriori - Frequent Item Sets"
   ]
  },
  {
   "cell_type": "code",
   "execution_count": 24,
   "id": "1ab1d09f-b9f1-4a03-8c9a-28d0100ef72b",
   "metadata": {},
   "outputs": [
    {
     "name": "stderr",
     "output_type": "stream",
     "text": [
      "/Users/yoonhyuph/miniconda3/lib/python3.10/site-packages/mlxtend/frequent_patterns/fpcommon.py:109: DeprecationWarning: DataFrames with non-bool types result in worse computationalperformance and their support might be discontinued in the future.Please use a DataFrame with bool type\n",
      "  warnings.warn(\n"
     ]
    },
    {
     "name": "stdout",
     "output_type": "stream",
     "text": [
      "CPU times: user 9.46 s, sys: 6.09 s, total: 15.5 s\n",
      "Wall time: 15.6 s\n"
     ]
    }
   ],
   "source": [
    "%%time\n",
    "\n",
    "frequent_items = apriori(\n",
    "    customer_item_matrix, \n",
    "    min_support=0.03,\n",
    "    use_colnames=True\n",
    ")"
   ]
  },
  {
   "cell_type": "code",
   "execution_count": 25,
   "id": "01f61bc1-45f1-4be0-8c49-2984786086b0",
   "metadata": {},
   "outputs": [],
   "source": [
    "frequent_items[\"n_items\"] = frequent_items[\"itemsets\"].apply(lambda x: len(x))"
   ]
  },
  {
   "cell_type": "code",
   "execution_count": 26,
   "id": "87fb294c-f9cf-4336-bad3-0d8bd2bc9bdf",
   "metadata": {},
   "outputs": [
    {
     "data": {
      "text/html": [
       "<div>\n",
       "<style scoped>\n",
       "    .dataframe tbody tr th:only-of-type {\n",
       "        vertical-align: middle;\n",
       "    }\n",
       "\n",
       "    .dataframe tbody tr th {\n",
       "        vertical-align: top;\n",
       "    }\n",
       "\n",
       "    .dataframe thead th {\n",
       "        text-align: right;\n",
       "    }\n",
       "</style>\n",
       "<table border=\"1\" class=\"dataframe\">\n",
       "  <thead>\n",
       "    <tr style=\"text-align: right;\">\n",
       "      <th></th>\n",
       "      <th>support</th>\n",
       "      <th>itemsets</th>\n",
       "      <th>n_items</th>\n",
       "    </tr>\n",
       "  </thead>\n",
       "  <tbody>\n",
       "    <tr>\n",
       "      <th>0</th>\n",
       "      <td>0.044145</td>\n",
       "      <td>(15036)</td>\n",
       "      <td>1</td>\n",
       "    </tr>\n",
       "    <tr>\n",
       "      <th>1</th>\n",
       "      <td>0.032479</td>\n",
       "      <td>(15056BL)</td>\n",
       "      <td>1</td>\n",
       "    </tr>\n",
       "    <tr>\n",
       "      <th>2</th>\n",
       "      <td>0.042086</td>\n",
       "      <td>(15056N)</td>\n",
       "      <td>1</td>\n",
       "    </tr>\n",
       "    <tr>\n",
       "      <th>3</th>\n",
       "      <td>0.030878</td>\n",
       "      <td>(16156S)</td>\n",
       "      <td>1</td>\n",
       "    </tr>\n",
       "    <tr>\n",
       "      <th>4</th>\n",
       "      <td>0.043001</td>\n",
       "      <td>(16161P)</td>\n",
       "      <td>1</td>\n",
       "    </tr>\n",
       "    <tr>\n",
       "      <th>...</th>\n",
       "      <td>...</td>\n",
       "      <td>...</td>\n",
       "      <td>...</td>\n",
       "    </tr>\n",
       "    <tr>\n",
       "      <th>1951</th>\n",
       "      <td>0.034309</td>\n",
       "      <td>(22384, 20727, 22383, 20725, 20728)</td>\n",
       "      <td>5</td>\n",
       "    </tr>\n",
       "    <tr>\n",
       "      <th>1952</th>\n",
       "      <td>0.032022</td>\n",
       "      <td>(22384, 20727, 22383, 22382, 20725)</td>\n",
       "      <td>5</td>\n",
       "    </tr>\n",
       "    <tr>\n",
       "      <th>1953</th>\n",
       "      <td>0.033166</td>\n",
       "      <td>(22384, 22383, 22382, 20725, 20728)</td>\n",
       "      <td>5</td>\n",
       "    </tr>\n",
       "    <tr>\n",
       "      <th>1954</th>\n",
       "      <td>0.030192</td>\n",
       "      <td>(23207, 22383, 22382, 20725, 20728)</td>\n",
       "      <td>5</td>\n",
       "    </tr>\n",
       "    <tr>\n",
       "      <th>1955</th>\n",
       "      <td>0.031565</td>\n",
       "      <td>(22384, 20727, 22383, 22382, 20728)</td>\n",
       "      <td>5</td>\n",
       "    </tr>\n",
       "  </tbody>\n",
       "</table>\n",
       "<p>1956 rows × 3 columns</p>\n",
       "</div>"
      ],
      "text/plain": [
       "       support                             itemsets  n_items\n",
       "0     0.044145                              (15036)        1\n",
       "1     0.032479                            (15056BL)        1\n",
       "2     0.042086                             (15056N)        1\n",
       "3     0.030878                             (16156S)        1\n",
       "4     0.043001                             (16161P)        1\n",
       "...        ...                                  ...      ...\n",
       "1951  0.034309  (22384, 20727, 22383, 20725, 20728)        5\n",
       "1952  0.032022  (22384, 20727, 22383, 22382, 20725)        5\n",
       "1953  0.033166  (22384, 22383, 22382, 20725, 20728)        5\n",
       "1954  0.030192  (23207, 22383, 22382, 20725, 20728)        5\n",
       "1955  0.031565  (22384, 20727, 22383, 22382, 20728)        5\n",
       "\n",
       "[1956 rows x 3 columns]"
      ]
     },
     "execution_count": 26,
     "metadata": {},
     "output_type": "execute_result"
    }
   ],
   "source": [
    "frequent_items"
   ]
  },
  {
   "cell_type": "code",
   "execution_count": 27,
   "id": "3e71dd93-bc54-4020-b64c-3a447aeea4e8",
   "metadata": {},
   "outputs": [
    {
     "data": {
      "text/plain": [
       "count    1956.000000\n",
       "mean        0.042293\n",
       "std         0.016682\n",
       "min         0.030192\n",
       "25%         0.032479\n",
       "50%         0.036597\n",
       "75%         0.045059\n",
       "max         0.198994\n",
       "Name: support, dtype: float64"
      ]
     },
     "execution_count": 27,
     "metadata": {},
     "output_type": "execute_result"
    }
   ],
   "source": [
    "frequent_items[\"support\"].describe()"
   ]
  },
  {
   "cell_type": "code",
   "execution_count": 28,
   "id": "4fd4d7e1-72a8-4451-bd9b-470d16f3698e",
   "metadata": {},
   "outputs": [
    {
     "data": {
      "image/png": "[encoded data removed]",
      "text/plain": [
       "<Figure size 640x480 with 1 Axes>"
      ]
     },
     "metadata": {},
     "output_type": "display_data"
    }
   ],
   "source": [
    "ax = frequent_items[\"support\"].hist(bins=20)\n",
    "ax.set_xlabel(\"support\")\n",
    "ax.set_ylabel(\"frequency\")\n",
    "plt.show()"
   ]
  },
  {
   "cell_type": "markdown",
   "id": "efda09fb-7011-4582-8489-875c883e84a9",
   "metadata": {},
   "source": [
    "## 1.2. Association Rules"
   ]
  },
  {
   "cell_type": "code",
   "execution_count": 29,
   "id": "1529f830-e304-43b2-a6f2-29d287642535",
   "metadata": {},
   "outputs": [],
   "source": [
    "rules = association_rules(\n",
    "    frequent_items, \n",
    "    metric=\"confidence\",\n",
    "    min_threshold=0.6, \n",
    "    support_only=False\n",
    ")"
   ]
  },
  {
   "cell_type": "code",
   "execution_count": 30,
   "id": "5333362f-e767-4370-a74c-54aa6c2f7120",
   "metadata": {},
   "outputs": [
    {
     "data": {
      "text/html": [
       "<div>\n",
       "<style scoped>\n",
       "    .dataframe tbody tr th:only-of-type {\n",
       "        vertical-align: middle;\n",
       "    }\n",
       "\n",
       "    .dataframe tbody tr th {\n",
       "        vertical-align: top;\n",
       "    }\n",
       "\n",
       "    .dataframe thead th {\n",
       "        text-align: right;\n",
       "    }\n",
       "</style>\n",
       "<table border=\"1\" class=\"dataframe\">\n",
       "  <thead>\n",
       "    <tr style=\"text-align: right;\">\n",
       "      <th></th>\n",
       "      <th>antecedents</th>\n",
       "      <th>consequents</th>\n",
       "      <th>antecedent support</th>\n",
       "      <th>consequent support</th>\n",
       "      <th>support</th>\n",
       "      <th>confidence</th>\n",
       "      <th>lift</th>\n",
       "      <th>leverage</th>\n",
       "      <th>conviction</th>\n",
       "      <th>zhangs_metric</th>\n",
       "    </tr>\n",
       "  </thead>\n",
       "  <tbody>\n",
       "    <tr>\n",
       "      <th>0</th>\n",
       "      <td>(20712)</td>\n",
       "      <td>(85099B)</td>\n",
       "      <td>0.056267</td>\n",
       "      <td>0.144556</td>\n",
       "      <td>0.038655</td>\n",
       "      <td>0.686992</td>\n",
       "      <td>4.752418</td>\n",
       "      <td>0.030521</td>\n",
       "      <td>2.732976</td>\n",
       "      <td>0.836657</td>\n",
       "    </tr>\n",
       "    <tr>\n",
       "      <th>1</th>\n",
       "      <td>(20713)</td>\n",
       "      <td>(85099B)</td>\n",
       "      <td>0.047118</td>\n",
       "      <td>0.144556</td>\n",
       "      <td>0.034309</td>\n",
       "      <td>0.728155</td>\n",
       "      <td>5.037176</td>\n",
       "      <td>0.027498</td>\n",
       "      <td>3.146811</td>\n",
       "      <td>0.841107</td>\n",
       "    </tr>\n",
       "    <tr>\n",
       "      <th>2</th>\n",
       "      <td>(20719)</td>\n",
       "      <td>(20724)</td>\n",
       "      <td>0.054209</td>\n",
       "      <td>0.076624</td>\n",
       "      <td>0.037283</td>\n",
       "      <td>0.687764</td>\n",
       "      <td>8.975830</td>\n",
       "      <td>0.033129</td>\n",
       "      <td>2.957299</td>\n",
       "      <td>0.939520</td>\n",
       "    </tr>\n",
       "    <tr>\n",
       "      <th>3</th>\n",
       "      <td>(20723)</td>\n",
       "      <td>(20724)</td>\n",
       "      <td>0.052150</td>\n",
       "      <td>0.076624</td>\n",
       "      <td>0.037740</td>\n",
       "      <td>0.723684</td>\n",
       "      <td>9.444619</td>\n",
       "      <td>0.033744</td>\n",
       "      <td>3.341742</td>\n",
       "      <td>0.943313</td>\n",
       "    </tr>\n",
       "    <tr>\n",
       "      <th>4</th>\n",
       "      <td>(20723)</td>\n",
       "      <td>(22355)</td>\n",
       "      <td>0.052150</td>\n",
       "      <td>0.056496</td>\n",
       "      <td>0.031336</td>\n",
       "      <td>0.600877</td>\n",
       "      <td>10.635770</td>\n",
       "      <td>0.028390</td>\n",
       "      <td>2.363944</td>\n",
       "      <td>0.955824</td>\n",
       "    </tr>\n",
       "    <tr>\n",
       "      <th>...</th>\n",
       "      <td>...</td>\n",
       "      <td>...</td>\n",
       "      <td>...</td>\n",
       "      <td>...</td>\n",
       "      <td>...</td>\n",
       "      <td>...</td>\n",
       "      <td>...</td>\n",
       "      <td>...</td>\n",
       "      <td>...</td>\n",
       "      <td>...</td>\n",
       "    </tr>\n",
       "    <tr>\n",
       "      <th>2019</th>\n",
       "      <td>(22384, 22382, 20728)</td>\n",
       "      <td>(20727, 22383)</td>\n",
       "      <td>0.045517</td>\n",
       "      <td>0.061070</td>\n",
       "      <td>0.031565</td>\n",
       "      <td>0.693467</td>\n",
       "      <td>11.355203</td>\n",
       "      <td>0.028785</td>\n",
       "      <td>3.063065</td>\n",
       "      <td>0.955423</td>\n",
       "    </tr>\n",
       "    <tr>\n",
       "      <th>2020</th>\n",
       "      <td>(22382, 20727, 22383)</td>\n",
       "      <td>(22384, 20728)</td>\n",
       "      <td>0.046661</td>\n",
       "      <td>0.064730</td>\n",
       "      <td>0.031565</td>\n",
       "      <td>0.676471</td>\n",
       "      <td>10.450634</td>\n",
       "      <td>0.028544</td>\n",
       "      <td>2.890834</td>\n",
       "      <td>0.948573</td>\n",
       "    </tr>\n",
       "    <tr>\n",
       "      <th>2021</th>\n",
       "      <td>(20728, 20727, 22383)</td>\n",
       "      <td>(22384, 22382)</td>\n",
       "      <td>0.044831</td>\n",
       "      <td>0.057868</td>\n",
       "      <td>0.031565</td>\n",
       "      <td>0.704082</td>\n",
       "      <td>12.166976</td>\n",
       "      <td>0.028970</td>\n",
       "      <td>3.183756</td>\n",
       "      <td>0.960888</td>\n",
       "    </tr>\n",
       "    <tr>\n",
       "      <th>2022</th>\n",
       "      <td>(20728, 22382, 20727)</td>\n",
       "      <td>(22384, 22383)</td>\n",
       "      <td>0.044145</td>\n",
       "      <td>0.055124</td>\n",
       "      <td>0.031565</td>\n",
       "      <td>0.715026</td>\n",
       "      <td>12.971341</td>\n",
       "      <td>0.029131</td>\n",
       "      <td>3.315657</td>\n",
       "      <td>0.965530</td>\n",
       "    </tr>\n",
       "    <tr>\n",
       "      <th>2023</th>\n",
       "      <td>(20728, 22382, 22383)</td>\n",
       "      <td>(22384, 20727)</td>\n",
       "      <td>0.047575</td>\n",
       "      <td>0.063586</td>\n",
       "      <td>0.031565</td>\n",
       "      <td>0.663462</td>\n",
       "      <td>10.434007</td>\n",
       "      <td>0.028539</td>\n",
       "      <td>2.782486</td>\n",
       "      <td>0.949324</td>\n",
       "    </tr>\n",
       "  </tbody>\n",
       "</table>\n",
       "<p>2024 rows × 10 columns</p>\n",
       "</div>"
      ],
      "text/plain": [
       "                antecedents     consequents  antecedent support  \\\n",
       "0                   (20712)        (85099B)            0.056267   \n",
       "1                   (20713)        (85099B)            0.047118   \n",
       "2                   (20719)         (20724)            0.054209   \n",
       "3                   (20723)         (20724)            0.052150   \n",
       "4                   (20723)         (22355)            0.052150   \n",
       "...                     ...             ...                 ...   \n",
       "2019  (22384, 22382, 20728)  (20727, 22383)            0.045517   \n",
       "2020  (22382, 20727, 22383)  (22384, 20728)            0.046661   \n",
       "2021  (20728, 20727, 22383)  (22384, 22382)            0.044831   \n",
       "2022  (20728, 22382, 20727)  (22384, 22383)            0.044145   \n",
       "2023  (20728, 22382, 22383)  (22384, 20727)            0.047575   \n",
       "\n",
       "      consequent support   support  confidence       lift  leverage  \\\n",
       "0               0.144556  0.038655    0.686992   4.752418  0.030521   \n",
       "1               0.144556  0.034309    0.728155   5.037176  0.027498   \n",
       "2               0.076624  0.037283    0.687764   8.975830  0.033129   \n",
       "3               0.076624  0.037740    0.723684   9.444619  0.033744   \n",
       "4               0.056496  0.031336    0.600877  10.635770  0.028390   \n",
       "...                  ...       ...         ...        ...       ...   \n",
       "2019            0.061070  0.031565    0.693467  11.355203  0.028785   \n",
       "2020            0.064730  0.031565    0.676471  10.450634  0.028544   \n",
       "2021            0.057868  0.031565    0.704082  12.166976  0.028970   \n",
       "2022            0.055124  0.031565    0.715026  12.971341  0.029131   \n",
       "2023            0.063586  0.031565    0.663462  10.434007  0.028539   \n",
       "\n",
       "      conviction  zhangs_metric  \n",
       "0       2.732976       0.836657  \n",
       "1       3.146811       0.841107  \n",
       "2       2.957299       0.939520  \n",
       "3       3.341742       0.943313  \n",
       "4       2.363944       0.955824  \n",
       "...          ...            ...  \n",
       "2019    3.063065       0.955423  \n",
       "2020    2.890834       0.948573  \n",
       "2021    3.183756       0.960888  \n",
       "2022    3.315657       0.965530  \n",
       "2023    2.782486       0.949324  \n",
       "\n",
       "[2024 rows x 10 columns]"
      ]
     },
     "execution_count": 30,
     "metadata": {},
     "output_type": "execute_result"
    }
   ],
   "source": [
    "rules"
   ]
  },
  {
   "cell_type": "code",
   "execution_count": 31,
   "id": "d23d50a3-912a-4348-9030-41ac68c76139",
   "metadata": {},
   "outputs": [],
   "source": [
    "most_lift = rules.sort_values(by=\"lift\", ascending=False).head(20).pivot_table(\n",
    "    index='antecedents', \n",
    "    columns='consequents', \n",
    "    values='lift',\n",
    "    aggfunc='sum'\n",
    ")\n",
    "\n",
    "most_lift.index = [\n",
    "    \" + \".join([df.loc[df[\"StockCode\"] == item][\"Description\"].unique()[0] for item in list(x)]) for x in most_lift.index\n",
    "]\n",
    "\n",
    "most_lift.columns = [\n",
    "    \" + \".join([df.loc[df[\"StockCode\"] == item][\"Description\"].unique()[0] for item in list(x)]) for x in most_lift.columns\n",
    "]"
   ]
  },
  {
   "cell_type": "code",
   "execution_count": 32,
   "id": "eee85b8b-02da-4737-bc60-d24a4063b2e9",
   "metadata": {},
   "outputs": [],
   "source": [
    "most_conf = rules.sort_values(by=\"confidence\", ascending=False).head(20).pivot_table(\n",
    "    index='antecedents', \n",
    "    columns='consequents', \n",
    "    values='confidence',\n",
    "    aggfunc='sum'\n",
    ")\n",
    "\n",
    "most_conf.index = [\n",
    "    \" + \".join([df.loc[df[\"StockCode\"] == item][\"Description\"].unique()[0] for item in list(x)]) for x in most_conf.index\n",
    "]\n",
    "\n",
    "most_conf.columns = [\n",
    "    \" + \".join([df.loc[df[\"StockCode\"] == item][\"Description\"].unique()[0] for item in list(x)]) for x in most_conf.columns\n",
    "]"
   ]
  },
  {
   "cell_type": "code",
   "execution_count": 33,
   "id": "758fc772-6540-4436-9943-a362dcb8a220",
   "metadata": {
    "tags": []
   },
   "outputs": [
    {
     "data": {
      "image/png": "[encoded data removed]",
      "text/plain": [
       "<Figure size 640x480 with 2 Axes>"
      ]
     },
     "metadata": {},
     "output_type": "display_data"
    }
   ],
   "source": [
    "ax = plt.subplot()\n",
    "sns.heatmap(\n",
    "    most_lift, \n",
    "    annot=True, \n",
    "    annot_kws={\"size\": 6},\n",
    "    fmt=\".1f\", \n",
    "    ax=ax\n",
    ")\n",
    "ax.set_title(\"Top 20 Rules by Lift\")\n",
    "ax.set_xlabel(\"Consequent\")\n",
    "ax.set_ylabel(\"Antecedent\")\n",
    "ax.yaxis.set_ticklabels(list(most_lift.index), fontsize=6)\n",
    "ax.xaxis.set_ticklabels(list(most_lift.columns), fontsize=6)\n",
    "plt.show()"
   ]
  },
  {
   "cell_type": "code",
   "execution_count": 34,
   "id": "bff3a536-89de-4b3e-b649-cc4e5295bff6",
   "metadata": {},
   "outputs": [
    {
     "data": {
      "image/png": "[encoded data removed]",
      "text/plain": [
       "<Figure size 640x480 with 2 Axes>"
      ]
     },
     "metadata": {},
     "output_type": "display_data"
    }
   ],
   "source": [
    "ax = plt.subplot()\n",
    "sns.heatmap(\n",
    "    most_conf, \n",
    "    annot=True, \n",
    "    annot_kws={\"size\": 6},\n",
    "    fmt=\".1%\", \n",
    "    ax=ax\n",
    ")\n",
    "ax.set_title(\"Top 20 Rules by Confidence\")\n",
    "ax.set_xlabel(\"Consequent\")\n",
    "ax.set_ylabel(\"Antecedent\")\n",
    "ax.yaxis.set_ticklabels(list(most_conf.index), fontsize=6)\n",
    "ax.xaxis.set_ticklabels(list(most_conf.columns), fontsize=6)\n",
    "plt.show()"
   ]
  },
  {
   "cell_type": "code",
   "execution_count": 35,
   "id": "0ecf62c5-799a-4c32-9366-66929f4ad0f8",
   "metadata": {},
   "outputs": [
    {
     "data": {
      "image/png": "[encoded data removed]",
      "text/plain": [
       "<Figure size 640x480 with 2 Axes>"
      ]
     },
     "metadata": {},
     "output_type": "display_data"
    }
   ],
   "source": [
    "# linear with confidence & inverse with support as lift = confidence / support\n",
    "\n",
    "fig = plt.figure()\n",
    "ax1 = fig.add_subplot(111)\n",
    "ax2 = ax1.twiny()\n",
    "\n",
    "rules[[\"support\",\"lift\"]].plot(kind=\"scatter\", x=\"support\", y=\"lift\", ax=ax1)\n",
    "rules[[\"confidence\",\"lift\"]].plot(kind=\"scatter\", x=\"confidence\", y=\"lift\", ax=ax2, color=\"orange\", alpha=0.3)\n",
    "\n",
    "plt.grid()\n",
    "plt.show()"
   ]
  },
  {
   "cell_type": "markdown",
   "id": "02920ad7-3145-4bc4-8a02-be05a31e78ae",
   "metadata": {},
   "source": [
    "# 2. Collaborative Filtering"
   ]
  },
  {
   "cell_type": "code",
   "execution_count": 36,
   "id": "cdf7ed21-e087-4416-8d47-2b7ea54e49ee",
   "metadata": {},
   "outputs": [],
   "source": [
    "from sklearn.metrics.pairwise import cosine_similarity"
   ]
  },
  {
   "cell_type": "markdown",
   "id": "b5bb4414-6a69-47cf-8086-539e0c5fee28",
   "metadata": {},
   "source": [
    "## 2.1. User-Based Collaborative Filtering"
   ]
  },
  {
   "cell_type": "markdown",
   "id": "53ab8647-81aa-4912-b4bd-ea7cbbab1628",
   "metadata": {},
   "source": [
    "### 2.1.1. CF Training"
   ]
  },
  {
   "cell_type": "code",
   "execution_count": 37,
   "id": "3e5193b5-738a-4be9-af87-6cab4ff67768",
   "metadata": {},
   "outputs": [
    {
     "name": "stdout",
     "output_type": "stream",
     "text": [
      "CPU times: user 2.15 s, sys: 292 ms, total: 2.44 s\n",
      "Wall time: 417 ms\n"
     ]
    }
   ],
   "source": [
    "%%time\n",
    "\n",
    "user_user_sim_matrix = pd.DataFrame(\n",
    "    cosine_similarity(customer_item_matrix)\n",
    ")"
   ]
  },
  {
   "cell_type": "code",
   "execution_count": 38,
   "id": "d3b03bbe-7e91-4c9c-8c79-e2c2a05ff5ec",
   "metadata": {},
   "outputs": [
    {
     "data": {
      "text/plain": [
       "(4372, 4372)"
      ]
     },
     "execution_count": 38,
     "metadata": {},
     "output_type": "execute_result"
    }
   ],
   "source": [
    "user_user_sim_matrix.shape"
   ]
  },
  {
   "cell_type": "code",
   "execution_count": 39,
   "id": "f18a64e1-1ec7-47b7-b8cf-519d83f0eace",
   "metadata": {},
   "outputs": [],
   "source": [
    "user_user_sim_matrix.columns = customer_item_matrix.index\n",
    "\n",
    "user_user_sim_matrix['CustomerID'] = customer_item_matrix.index\n",
    "user_user_sim_matrix = user_user_sim_matrix.set_index('CustomerID')"
   ]
  },
  {
   "cell_type": "code",
   "execution_count": 40,
   "id": "b816f152-32cb-4a24-a97e-1aeda05f12b6",
   "metadata": {},
   "outputs": [
    {
     "data": {
      "text/html": [
       "<div>\n",
       "<style scoped>\n",
       "    .dataframe tbody tr th:only-of-type {\n",
       "        vertical-align: middle;\n",
       "    }\n",
       "\n",
       "    .dataframe tbody tr th {\n",
       "        vertical-align: top;\n",
       "    }\n",
       "\n",
       "    .dataframe thead th {\n",
       "        text-align: right;\n",
       "    }\n",
       "</style>\n",
       "<table border=\"1\" class=\"dataframe\">\n",
       "  <thead>\n",
       "    <tr style=\"text-align: right;\">\n",
       "      <th>CustomerID</th>\n",
       "      <th>12346.0</th>\n",
       "      <th>12347.0</th>\n",
       "      <th>12348.0</th>\n",
       "      <th>12349.0</th>\n",
       "      <th>12350.0</th>\n",
       "      <th>12352.0</th>\n",
       "      <th>12353.0</th>\n",
       "      <th>12354.0</th>\n",
       "      <th>12355.0</th>\n",
       "      <th>12356.0</th>\n",
       "      <th>...</th>\n",
       "      <th>18273.0</th>\n",
       "      <th>18274.0</th>\n",
       "      <th>18276.0</th>\n",
       "      <th>18277.0</th>\n",
       "      <th>18278.0</th>\n",
       "      <th>18280.0</th>\n",
       "      <th>18281.0</th>\n",
       "      <th>18282.0</th>\n",
       "      <th>18283.0</th>\n",
       "      <th>18287.0</th>\n",
       "    </tr>\n",
       "    <tr>\n",
       "      <th>CustomerID</th>\n",
       "      <th></th>\n",
       "      <th></th>\n",
       "      <th></th>\n",
       "      <th></th>\n",
       "      <th></th>\n",
       "      <th></th>\n",
       "      <th></th>\n",
       "      <th></th>\n",
       "      <th></th>\n",
       "      <th></th>\n",
       "      <th></th>\n",
       "      <th></th>\n",
       "      <th></th>\n",
       "      <th></th>\n",
       "      <th></th>\n",
       "      <th></th>\n",
       "      <th></th>\n",
       "      <th></th>\n",
       "      <th></th>\n",
       "      <th></th>\n",
       "      <th></th>\n",
       "    </tr>\n",
       "  </thead>\n",
       "  <tbody>\n",
       "    <tr>\n",
       "      <th>12346.0</th>\n",
       "      <td>0.0</td>\n",
       "      <td>0.000000</td>\n",
       "      <td>0.000000</td>\n",
       "      <td>0.000000</td>\n",
       "      <td>0.000000</td>\n",
       "      <td>0.000000</td>\n",
       "      <td>0.0</td>\n",
       "      <td>0.000000</td>\n",
       "      <td>0.000000</td>\n",
       "      <td>0.000000</td>\n",
       "      <td>...</td>\n",
       "      <td>0.0</td>\n",
       "      <td>0.0</td>\n",
       "      <td>0.000000</td>\n",
       "      <td>0.0</td>\n",
       "      <td>0.000000</td>\n",
       "      <td>0.000000</td>\n",
       "      <td>0.0</td>\n",
       "      <td>0.000000</td>\n",
       "      <td>0.000000</td>\n",
       "      <td>0.000000</td>\n",
       "    </tr>\n",
       "    <tr>\n",
       "      <th>12347.0</th>\n",
       "      <td>0.0</td>\n",
       "      <td>1.000000</td>\n",
       "      <td>0.063022</td>\n",
       "      <td>0.046130</td>\n",
       "      <td>0.047795</td>\n",
       "      <td>0.038814</td>\n",
       "      <td>0.0</td>\n",
       "      <td>0.025876</td>\n",
       "      <td>0.136641</td>\n",
       "      <td>0.094742</td>\n",
       "      <td>...</td>\n",
       "      <td>0.0</td>\n",
       "      <td>0.0</td>\n",
       "      <td>0.054656</td>\n",
       "      <td>0.0</td>\n",
       "      <td>0.032844</td>\n",
       "      <td>0.062318</td>\n",
       "      <td>0.0</td>\n",
       "      <td>0.113776</td>\n",
       "      <td>0.109364</td>\n",
       "      <td>0.012828</td>\n",
       "    </tr>\n",
       "    <tr>\n",
       "      <th>12348.0</th>\n",
       "      <td>0.0</td>\n",
       "      <td>0.063022</td>\n",
       "      <td>1.000000</td>\n",
       "      <td>0.024953</td>\n",
       "      <td>0.051709</td>\n",
       "      <td>0.027995</td>\n",
       "      <td>0.0</td>\n",
       "      <td>0.027995</td>\n",
       "      <td>0.118262</td>\n",
       "      <td>0.146427</td>\n",
       "      <td>...</td>\n",
       "      <td>0.0</td>\n",
       "      <td>0.0</td>\n",
       "      <td>0.118262</td>\n",
       "      <td>0.0</td>\n",
       "      <td>0.000000</td>\n",
       "      <td>0.000000</td>\n",
       "      <td>0.0</td>\n",
       "      <td>0.000000</td>\n",
       "      <td>0.170905</td>\n",
       "      <td>0.083269</td>\n",
       "    </tr>\n",
       "    <tr>\n",
       "      <th>12349.0</th>\n",
       "      <td>0.0</td>\n",
       "      <td>0.046130</td>\n",
       "      <td>0.024953</td>\n",
       "      <td>1.000000</td>\n",
       "      <td>0.056773</td>\n",
       "      <td>0.138314</td>\n",
       "      <td>0.0</td>\n",
       "      <td>0.030737</td>\n",
       "      <td>0.032461</td>\n",
       "      <td>0.144692</td>\n",
       "      <td>...</td>\n",
       "      <td>0.0</td>\n",
       "      <td>0.0</td>\n",
       "      <td>0.000000</td>\n",
       "      <td>0.0</td>\n",
       "      <td>0.039014</td>\n",
       "      <td>0.000000</td>\n",
       "      <td>0.0</td>\n",
       "      <td>0.067574</td>\n",
       "      <td>0.137124</td>\n",
       "      <td>0.030475</td>\n",
       "    </tr>\n",
       "    <tr>\n",
       "      <th>12350.0</th>\n",
       "      <td>0.0</td>\n",
       "      <td>0.047795</td>\n",
       "      <td>0.051709</td>\n",
       "      <td>0.056773</td>\n",
       "      <td>1.000000</td>\n",
       "      <td>0.031846</td>\n",
       "      <td>0.0</td>\n",
       "      <td>0.000000</td>\n",
       "      <td>0.000000</td>\n",
       "      <td>0.033315</td>\n",
       "      <td>...</td>\n",
       "      <td>0.0</td>\n",
       "      <td>0.0</td>\n",
       "      <td>0.000000</td>\n",
       "      <td>0.0</td>\n",
       "      <td>0.000000</td>\n",
       "      <td>0.000000</td>\n",
       "      <td>0.0</td>\n",
       "      <td>0.000000</td>\n",
       "      <td>0.044866</td>\n",
       "      <td>0.000000</td>\n",
       "    </tr>\n",
       "  </tbody>\n",
       "</table>\n",
       "<p>5 rows × 4372 columns</p>\n",
       "</div>"
      ],
      "text/plain": [
       "CustomerID  12346.0   12347.0   12348.0   12349.0   12350.0   12352.0  \\\n",
       "CustomerID                                                              \n",
       "12346.0         0.0  0.000000  0.000000  0.000000  0.000000  0.000000   \n",
       "12347.0         0.0  1.000000  0.063022  0.046130  0.047795  0.038814   \n",
       "12348.0         0.0  0.063022  1.000000  0.024953  0.051709  0.027995   \n",
       "12349.0         0.0  0.046130  0.024953  1.000000  0.056773  0.138314   \n",
       "12350.0         0.0  0.047795  0.051709  0.056773  1.000000  0.031846   \n",
       "\n",
       "CustomerID  12353.0   12354.0   12355.0   12356.0  ...  18273.0  18274.0  \\\n",
       "CustomerID                                         ...                     \n",
       "12346.0         0.0  0.000000  0.000000  0.000000  ...      0.0      0.0   \n",
       "12347.0         0.0  0.025876  0.136641  0.094742  ...      0.0      0.0   \n",
       "12348.0         0.0  0.027995  0.118262  0.146427  ...      0.0      0.0   \n",
       "12349.0         0.0  0.030737  0.032461  0.144692  ...      0.0      0.0   \n",
       "12350.0         0.0  0.000000  0.000000  0.033315  ...      0.0      0.0   \n",
       "\n",
       "CustomerID   18276.0  18277.0   18278.0   18280.0  18281.0   18282.0  \\\n",
       "CustomerID                                                             \n",
       "12346.0     0.000000      0.0  0.000000  0.000000      0.0  0.000000   \n",
       "12347.0     0.054656      0.0  0.032844  0.062318      0.0  0.113776   \n",
       "12348.0     0.118262      0.0  0.000000  0.000000      0.0  0.000000   \n",
       "12349.0     0.000000      0.0  0.039014  0.000000      0.0  0.067574   \n",
       "12350.0     0.000000      0.0  0.000000  0.000000      0.0  0.000000   \n",
       "\n",
       "CustomerID   18283.0   18287.0  \n",
       "CustomerID                      \n",
       "12346.0     0.000000  0.000000  \n",
       "12347.0     0.109364  0.012828  \n",
       "12348.0     0.170905  0.083269  \n",
       "12349.0     0.137124  0.030475  \n",
       "12350.0     0.044866  0.000000  \n",
       "\n",
       "[5 rows x 4372 columns]"
      ]
     },
     "execution_count": 40,
     "metadata": {},
     "output_type": "execute_result"
    }
   ],
   "source": [
    "user_user_sim_matrix.head()"
   ]
  },
  {
   "cell_type": "markdown",
   "id": "83d4a527-6b88-4ad9-8102-aac4b36b9388",
   "metadata": {},
   "source": [
    "### 2.1.2. Making Recommendations"
   ]
  },
  {
   "cell_type": "code",
   "execution_count": 41,
   "id": "29e9c4b5-8949-4810-9951-b9c0f0a6c007",
   "metadata": {},
   "outputs": [],
   "source": [
    "TARGET_CUSTOMER = 14806.0"
   ]
  },
  {
   "cell_type": "code",
   "execution_count": 42,
   "id": "fefa8c57-d4fc-41d8-8af5-0da274a63b07",
   "metadata": {},
   "outputs": [
    {
     "name": "stdout",
     "output_type": "stream",
     "text": [
      "Similar Customers to TARGET\n"
     ]
    },
    {
     "data": {
      "text/plain": [
       "CustomerID\n",
       "14806.0    1.000000\n",
       "13919.0    0.251478\n",
       "12561.0    0.226134\n",
       "13711.0    0.181818\n",
       "12618.0    0.181818\n",
       "Name: 14806.0, dtype: float64"
      ]
     },
     "execution_count": 42,
     "metadata": {},
     "output_type": "execute_result"
    }
   ],
   "source": [
    "print(\"Similar Customers to TARGET\")\n",
    "user_user_sim_matrix.loc[TARGET_CUSTOMER].sort_values(ascending=False).head(5)"
   ]
  },
  {
   "cell_type": "code",
   "execution_count": 43,
   "id": "bf36c4d3-33bd-43e9-9503-a0d4b282d2b4",
   "metadata": {
    "scrolled": true,
    "tags": []
   },
   "outputs": [
    {
     "data": {
      "text/plain": [
       "{'21499',\n",
       " '21500',\n",
       " '22704',\n",
       " '22711',\n",
       " '23079',\n",
       " '23232',\n",
       " '23550',\n",
       " '72351B',\n",
       " '84508C',\n",
       " '84580',\n",
       " '85175'}"
      ]
     },
     "execution_count": 43,
     "metadata": {},
     "output_type": "execute_result"
    }
   ],
   "source": [
    "items_bought_by_target = set(\n",
    "    df.loc[\n",
    "        df[\"CustomerID\"] == TARGET_CUSTOMER\n",
    "    ][\"StockCode\"].unique()\n",
    ")\n",
    "items_bought_by_target"
   ]
  },
  {
   "cell_type": "code",
   "execution_count": 44,
   "id": "92d169bd-3378-4749-bce7-e59a9013b38c",
   "metadata": {
    "scrolled": true,
    "tags": []
   },
   "outputs": [
    {
     "data": {
      "text/plain": [
       "{'16161P',\n",
       " '16161U',\n",
       " '16169E',\n",
       " '21498',\n",
       " '21499',\n",
       " '21500',\n",
       " '21731',\n",
       " '22046',\n",
       " '22567',\n",
       " '22666',\n",
       " '22704',\n",
       " '22707',\n",
       " '22711',\n",
       " '22847',\n",
       " '22961',\n",
       " '23233',\n",
       " '23511',\n",
       " '23512',\n",
       " '23513',\n",
       " '23515',\n",
       " '23518',\n",
       " '23546',\n",
       " '23547',\n",
       " 'POST'}"
      ]
     },
     "execution_count": 44,
     "metadata": {},
     "output_type": "execute_result"
    }
   ],
   "source": [
    "items_bought_by_sim = set(\n",
    "    df.loc[\n",
    "        df[\"CustomerID\"] == 13919.0\n",
    "    ][\"StockCode\"].unique()\n",
    ")\n",
    "items_bought_by_sim"
   ]
  },
  {
   "cell_type": "code",
   "execution_count": 45,
   "id": "c5cdd087-1aca-40a3-9e07-064f78691b9b",
   "metadata": {
    "tags": []
   },
   "outputs": [
    {
     "data": {
      "text/html": [
       "<div>\n",
       "<style scoped>\n",
       "    .dataframe tbody tr th:only-of-type {\n",
       "        vertical-align: middle;\n",
       "    }\n",
       "\n",
       "    .dataframe tbody tr th {\n",
       "        vertical-align: top;\n",
       "    }\n",
       "\n",
       "    .dataframe thead th {\n",
       "        text-align: right;\n",
       "    }\n",
       "</style>\n",
       "<table border=\"1\" class=\"dataframe\">\n",
       "  <thead>\n",
       "    <tr style=\"text-align: right;\">\n",
       "      <th></th>\n",
       "      <th>StockCode</th>\n",
       "      <th>Description</th>\n",
       "    </tr>\n",
       "  </thead>\n",
       "  <tbody>\n",
       "    <tr>\n",
       "      <th>39</th>\n",
       "      <td>21731</td>\n",
       "      <td>RED TOADSTOOL LED NIGHT LIGHT</td>\n",
       "    </tr>\n",
       "    <tr>\n",
       "      <th>45</th>\n",
       "      <td>POST</td>\n",
       "      <td>POSTAGE</td>\n",
       "    </tr>\n",
       "    <tr>\n",
       "      <th>105</th>\n",
       "      <td>22961</td>\n",
       "      <td>JAM MAKING SET PRINTED</td>\n",
       "    </tr>\n",
       "    <tr>\n",
       "      <th>1217</th>\n",
       "      <td>21498</td>\n",
       "      <td>RED RETROSPOT WRAP</td>\n",
       "    </tr>\n",
       "    <tr>\n",
       "      <th>1296</th>\n",
       "      <td>22666</td>\n",
       "      <td>RECIPE BOX PANTRY YELLOW DESIGN</td>\n",
       "    </tr>\n",
       "    <tr>\n",
       "      <th>1299</th>\n",
       "      <td>22567</td>\n",
       "      <td>20 DOLLY PEGS RETROSPOT</td>\n",
       "    </tr>\n",
       "    <tr>\n",
       "      <th>2116</th>\n",
       "      <td>22847</td>\n",
       "      <td>BREAD BIN DINER STYLE IVORY</td>\n",
       "    </tr>\n",
       "    <tr>\n",
       "      <th>5016</th>\n",
       "      <td>16161P</td>\n",
       "      <td>WRAP ENGLISH ROSE</td>\n",
       "    </tr>\n",
       "    <tr>\n",
       "      <th>9525</th>\n",
       "      <td>16161U</td>\n",
       "      <td>WRAP SUKI AND FRIENDS</td>\n",
       "    </tr>\n",
       "    <tr>\n",
       "      <th>9780</th>\n",
       "      <td>22847</td>\n",
       "      <td>BREAD BIN, DINER STYLE, IVORY</td>\n",
       "    </tr>\n",
       "    <tr>\n",
       "      <th>37655</th>\n",
       "      <td>22707</td>\n",
       "      <td>WRAP MONSTER FUN</td>\n",
       "    </tr>\n",
       "    <tr>\n",
       "      <th>41750</th>\n",
       "      <td>22046</td>\n",
       "      <td>TEA PARTY  WRAPPING PAPER</td>\n",
       "    </tr>\n",
       "    <tr>\n",
       "      <th>58513</th>\n",
       "      <td>23233</td>\n",
       "      <td>WRAP POPPIES  DESIGN</td>\n",
       "    </tr>\n",
       "    <tr>\n",
       "      <th>269898</th>\n",
       "      <td>23546</td>\n",
       "      <td>WRAP PAISLEY PARK</td>\n",
       "    </tr>\n",
       "    <tr>\n",
       "      <th>272071</th>\n",
       "      <td>23547</td>\n",
       "      <td>WRAP FLOWER SHOP</td>\n",
       "    </tr>\n",
       "    <tr>\n",
       "      <th>273724</th>\n",
       "      <td>16169E</td>\n",
       "      <td>WRAP 50'S  CHRISTMAS</td>\n",
       "    </tr>\n",
       "    <tr>\n",
       "      <th>353509</th>\n",
       "      <td>23511</td>\n",
       "      <td>EMBROIDERED RIBBON REEL EMILY</td>\n",
       "    </tr>\n",
       "    <tr>\n",
       "      <th>354136</th>\n",
       "      <td>23512</td>\n",
       "      <td>EMBROIDERED RIBBON REEL ROSIE</td>\n",
       "    </tr>\n",
       "    <tr>\n",
       "      <th>354137</th>\n",
       "      <td>23515</td>\n",
       "      <td>EMBROIDERED RIBBON REEL DAISY</td>\n",
       "    </tr>\n",
       "    <tr>\n",
       "      <th>354140</th>\n",
       "      <td>23518</td>\n",
       "      <td>EMBROIDERED RIBBON REEL RACHEL</td>\n",
       "    </tr>\n",
       "    <tr>\n",
       "      <th>354254</th>\n",
       "      <td>23513</td>\n",
       "      <td>EMBROIDERED RIBBON REEL SUSIE</td>\n",
       "    </tr>\n",
       "  </tbody>\n",
       "</table>\n",
       "</div>"
      ],
      "text/plain": [
       "       StockCode                      Description\n",
       "39         21731    RED TOADSTOOL LED NIGHT LIGHT\n",
       "45          POST                          POSTAGE\n",
       "105        22961           JAM MAKING SET PRINTED\n",
       "1217       21498              RED RETROSPOT WRAP \n",
       "1296       22666  RECIPE BOX PANTRY YELLOW DESIGN\n",
       "1299       22567          20 DOLLY PEGS RETROSPOT\n",
       "2116       22847      BREAD BIN DINER STYLE IVORY\n",
       "5016      16161P               WRAP ENGLISH ROSE \n",
       "9525      16161U            WRAP SUKI AND FRIENDS\n",
       "9780       22847    BREAD BIN, DINER STYLE, IVORY\n",
       "37655      22707                WRAP MONSTER FUN \n",
       "41750      22046       TEA PARTY  WRAPPING PAPER \n",
       "58513      23233             WRAP POPPIES  DESIGN\n",
       "269898     23546               WRAP PAISLEY PARK \n",
       "272071     23547               WRAP FLOWER SHOP  \n",
       "273724    16169E             WRAP 50'S  CHRISTMAS\n",
       "353509     23511   EMBROIDERED RIBBON REEL EMILY \n",
       "354136     23512    EMBROIDERED RIBBON REEL ROSIE\n",
       "354137     23515   EMBROIDERED RIBBON REEL DAISY \n",
       "354140     23518  EMBROIDERED RIBBON REEL RACHEL \n",
       "354254     23513   EMBROIDERED RIBBON REEL SUSIE "
      ]
     },
     "execution_count": 45,
     "metadata": {},
     "output_type": "execute_result"
    }
   ],
   "source": [
    "items_bought_by_sim_but_not_by_target = items_bought_by_sim - items_bought_by_target\n",
    "df.loc[\n",
    "    df[\"StockCode\"].isin(items_bought_by_sim_but_not_by_target)\n",
    "][[\"StockCode\", \"Description\"]].drop_duplicates()"
   ]
  },
  {
   "cell_type": "markdown",
   "id": "5f2b68d7-7b35-4212-aa5d-ce24a9e6a1dd",
   "metadata": {},
   "source": [
    "## 2.2. Item-Based Collaborative Filtering"
   ]
  },
  {
   "cell_type": "markdown",
   "id": "9ec391dc-50b0-4b27-8e73-3b6a270fa103",
   "metadata": {},
   "source": [
    "### 2.2.1. CF Training"
   ]
  },
  {
   "cell_type": "code",
   "execution_count": 46,
   "id": "16dc9cf0-52fb-4dea-9631-e534320b61bb",
   "metadata": {},
   "outputs": [],
   "source": [
    "item_item_sim_matrix = pd.DataFrame(cosine_similarity(customer_item_matrix.T))"
   ]
  },
  {
   "cell_type": "code",
   "execution_count": 47,
   "id": "4f014351-4678-4adb-bcdc-4502b7dd9c04",
   "metadata": {},
   "outputs": [],
   "source": [
    "item_item_sim_matrix.columns = customer_item_matrix.T.index\n",
    "\n",
    "item_item_sim_matrix['StockCode'] = customer_item_matrix.T.index\n",
    "item_item_sim_matrix = item_item_sim_matrix.set_index('StockCode')"
   ]
  },
  {
   "cell_type": "code",
   "execution_count": 48,
   "id": "c3c9a60b-5a9a-4142-8a1e-fa57b83115fa",
   "metadata": {},
   "outputs": [
    {
     "data": {
      "text/html": [
       "<div>\n",
       "<style scoped>\n",
       "    .dataframe tbody tr th:only-of-type {\n",
       "        vertical-align: middle;\n",
       "    }\n",
       "\n",
       "    .dataframe tbody tr th {\n",
       "        vertical-align: top;\n",
       "    }\n",
       "\n",
       "    .dataframe thead th {\n",
       "        text-align: right;\n",
       "    }\n",
       "</style>\n",
       "<table border=\"1\" class=\"dataframe\">\n",
       "  <thead>\n",
       "    <tr style=\"text-align: right;\">\n",
       "      <th>StockCode</th>\n",
       "      <th>10002</th>\n",
       "      <th>10080</th>\n",
       "      <th>10120</th>\n",
       "      <th>10123C</th>\n",
       "      <th>10124A</th>\n",
       "      <th>10124G</th>\n",
       "      <th>10125</th>\n",
       "      <th>10133</th>\n",
       "      <th>10135</th>\n",
       "      <th>11001</th>\n",
       "      <th>...</th>\n",
       "      <th>90214Y</th>\n",
       "      <th>90214Z</th>\n",
       "      <th>BANK CHARGES</th>\n",
       "      <th>C2</th>\n",
       "      <th>CRUK</th>\n",
       "      <th>D</th>\n",
       "      <th>DOT</th>\n",
       "      <th>M</th>\n",
       "      <th>PADS</th>\n",
       "      <th>POST</th>\n",
       "    </tr>\n",
       "    <tr>\n",
       "      <th>StockCode</th>\n",
       "      <th></th>\n",
       "      <th></th>\n",
       "      <th></th>\n",
       "      <th></th>\n",
       "      <th></th>\n",
       "      <th></th>\n",
       "      <th></th>\n",
       "      <th></th>\n",
       "      <th></th>\n",
       "      <th></th>\n",
       "      <th></th>\n",
       "      <th></th>\n",
       "      <th></th>\n",
       "      <th></th>\n",
       "      <th></th>\n",
       "      <th></th>\n",
       "      <th></th>\n",
       "      <th></th>\n",
       "      <th></th>\n",
       "      <th></th>\n",
       "      <th></th>\n",
       "    </tr>\n",
       "  </thead>\n",
       "  <tbody>\n",
       "    <tr>\n",
       "      <th>10002</th>\n",
       "      <td>1.000000</td>\n",
       "      <td>0.000000</td>\n",
       "      <td>0.094868</td>\n",
       "      <td>0.091287</td>\n",
       "      <td>0.0</td>\n",
       "      <td>0.000000</td>\n",
       "      <td>0.090351</td>\n",
       "      <td>0.063246</td>\n",
       "      <td>0.098907</td>\n",
       "      <td>0.095346</td>\n",
       "      <td>...</td>\n",
       "      <td>0.000000</td>\n",
       "      <td>0.0</td>\n",
       "      <td>0.000000</td>\n",
       "      <td>0.029361</td>\n",
       "      <td>0.0</td>\n",
       "      <td>0.0</td>\n",
       "      <td>0.0</td>\n",
       "      <td>0.059423</td>\n",
       "      <td>0.0</td>\n",
       "      <td>0.070057</td>\n",
       "    </tr>\n",
       "    <tr>\n",
       "      <th>10080</th>\n",
       "      <td>0.000000</td>\n",
       "      <td>1.000000</td>\n",
       "      <td>0.000000</td>\n",
       "      <td>0.000000</td>\n",
       "      <td>0.0</td>\n",
       "      <td>0.000000</td>\n",
       "      <td>0.032774</td>\n",
       "      <td>0.045883</td>\n",
       "      <td>0.047836</td>\n",
       "      <td>0.000000</td>\n",
       "      <td>...</td>\n",
       "      <td>0.000000</td>\n",
       "      <td>0.0</td>\n",
       "      <td>0.000000</td>\n",
       "      <td>0.000000</td>\n",
       "      <td>0.0</td>\n",
       "      <td>0.0</td>\n",
       "      <td>0.0</td>\n",
       "      <td>0.017244</td>\n",
       "      <td>0.0</td>\n",
       "      <td>0.000000</td>\n",
       "    </tr>\n",
       "    <tr>\n",
       "      <th>10120</th>\n",
       "      <td>0.094868</td>\n",
       "      <td>0.000000</td>\n",
       "      <td>1.000000</td>\n",
       "      <td>0.115470</td>\n",
       "      <td>0.0</td>\n",
       "      <td>0.000000</td>\n",
       "      <td>0.057143</td>\n",
       "      <td>0.060000</td>\n",
       "      <td>0.041703</td>\n",
       "      <td>0.060302</td>\n",
       "      <td>...</td>\n",
       "      <td>0.000000</td>\n",
       "      <td>0.0</td>\n",
       "      <td>0.000000</td>\n",
       "      <td>0.000000</td>\n",
       "      <td>0.0</td>\n",
       "      <td>0.0</td>\n",
       "      <td>0.0</td>\n",
       "      <td>0.075165</td>\n",
       "      <td>0.0</td>\n",
       "      <td>0.000000</td>\n",
       "    </tr>\n",
       "    <tr>\n",
       "      <th>10123C</th>\n",
       "      <td>0.091287</td>\n",
       "      <td>0.000000</td>\n",
       "      <td>0.115470</td>\n",
       "      <td>1.000000</td>\n",
       "      <td>0.0</td>\n",
       "      <td>0.000000</td>\n",
       "      <td>0.164957</td>\n",
       "      <td>0.000000</td>\n",
       "      <td>0.000000</td>\n",
       "      <td>0.000000</td>\n",
       "      <td>...</td>\n",
       "      <td>0.000000</td>\n",
       "      <td>0.0</td>\n",
       "      <td>0.000000</td>\n",
       "      <td>0.000000</td>\n",
       "      <td>0.0</td>\n",
       "      <td>0.0</td>\n",
       "      <td>0.0</td>\n",
       "      <td>0.000000</td>\n",
       "      <td>0.0</td>\n",
       "      <td>0.000000</td>\n",
       "    </tr>\n",
       "    <tr>\n",
       "      <th>10124A</th>\n",
       "      <td>0.000000</td>\n",
       "      <td>0.000000</td>\n",
       "      <td>0.000000</td>\n",
       "      <td>0.000000</td>\n",
       "      <td>1.0</td>\n",
       "      <td>0.447214</td>\n",
       "      <td>0.063888</td>\n",
       "      <td>0.044721</td>\n",
       "      <td>0.000000</td>\n",
       "      <td>0.000000</td>\n",
       "      <td>...</td>\n",
       "      <td>0.000000</td>\n",
       "      <td>0.0</td>\n",
       "      <td>0.000000</td>\n",
       "      <td>0.000000</td>\n",
       "      <td>0.0</td>\n",
       "      <td>0.0</td>\n",
       "      <td>0.0</td>\n",
       "      <td>0.000000</td>\n",
       "      <td>0.0</td>\n",
       "      <td>0.000000</td>\n",
       "    </tr>\n",
       "    <tr>\n",
       "      <th>...</th>\n",
       "      <td>...</td>\n",
       "      <td>...</td>\n",
       "      <td>...</td>\n",
       "      <td>...</td>\n",
       "      <td>...</td>\n",
       "      <td>...</td>\n",
       "      <td>...</td>\n",
       "      <td>...</td>\n",
       "      <td>...</td>\n",
       "      <td>...</td>\n",
       "      <td>...</td>\n",
       "      <td>...</td>\n",
       "      <td>...</td>\n",
       "      <td>...</td>\n",
       "      <td>...</td>\n",
       "      <td>...</td>\n",
       "      <td>...</td>\n",
       "      <td>...</td>\n",
       "      <td>...</td>\n",
       "      <td>...</td>\n",
       "      <td>...</td>\n",
       "    </tr>\n",
       "    <tr>\n",
       "      <th>D</th>\n",
       "      <td>0.000000</td>\n",
       "      <td>0.000000</td>\n",
       "      <td>0.000000</td>\n",
       "      <td>0.000000</td>\n",
       "      <td>0.0</td>\n",
       "      <td>0.000000</td>\n",
       "      <td>0.000000</td>\n",
       "      <td>0.000000</td>\n",
       "      <td>0.000000</td>\n",
       "      <td>0.000000</td>\n",
       "      <td>...</td>\n",
       "      <td>0.000000</td>\n",
       "      <td>0.0</td>\n",
       "      <td>0.000000</td>\n",
       "      <td>0.000000</td>\n",
       "      <td>0.0</td>\n",
       "      <td>0.0</td>\n",
       "      <td>0.0</td>\n",
       "      <td>0.000000</td>\n",
       "      <td>0.0</td>\n",
       "      <td>0.000000</td>\n",
       "    </tr>\n",
       "    <tr>\n",
       "      <th>DOT</th>\n",
       "      <td>0.000000</td>\n",
       "      <td>0.000000</td>\n",
       "      <td>0.000000</td>\n",
       "      <td>0.000000</td>\n",
       "      <td>0.0</td>\n",
       "      <td>0.000000</td>\n",
       "      <td>0.000000</td>\n",
       "      <td>0.000000</td>\n",
       "      <td>0.104257</td>\n",
       "      <td>0.150756</td>\n",
       "      <td>...</td>\n",
       "      <td>0.000000</td>\n",
       "      <td>0.0</td>\n",
       "      <td>0.000000</td>\n",
       "      <td>0.000000</td>\n",
       "      <td>0.0</td>\n",
       "      <td>0.0</td>\n",
       "      <td>1.0</td>\n",
       "      <td>0.000000</td>\n",
       "      <td>0.0</td>\n",
       "      <td>0.000000</td>\n",
       "    </tr>\n",
       "    <tr>\n",
       "      <th>M</th>\n",
       "      <td>0.059423</td>\n",
       "      <td>0.017244</td>\n",
       "      <td>0.075165</td>\n",
       "      <td>0.000000</td>\n",
       "      <td>0.0</td>\n",
       "      <td>0.000000</td>\n",
       "      <td>0.075165</td>\n",
       "      <td>0.067648</td>\n",
       "      <td>0.054855</td>\n",
       "      <td>0.101983</td>\n",
       "      <td>...</td>\n",
       "      <td>0.000000</td>\n",
       "      <td>0.0</td>\n",
       "      <td>0.071307</td>\n",
       "      <td>0.000000</td>\n",
       "      <td>0.0</td>\n",
       "      <td>0.0</td>\n",
       "      <td>0.0</td>\n",
       "      <td>1.000000</td>\n",
       "      <td>0.0</td>\n",
       "      <td>0.045793</td>\n",
       "    </tr>\n",
       "    <tr>\n",
       "      <th>PADS</th>\n",
       "      <td>0.000000</td>\n",
       "      <td>0.000000</td>\n",
       "      <td>0.000000</td>\n",
       "      <td>0.000000</td>\n",
       "      <td>0.0</td>\n",
       "      <td>0.000000</td>\n",
       "      <td>0.000000</td>\n",
       "      <td>0.050000</td>\n",
       "      <td>0.000000</td>\n",
       "      <td>0.000000</td>\n",
       "      <td>...</td>\n",
       "      <td>0.000000</td>\n",
       "      <td>0.0</td>\n",
       "      <td>0.000000</td>\n",
       "      <td>0.000000</td>\n",
       "      <td>0.0</td>\n",
       "      <td>0.0</td>\n",
       "      <td>0.0</td>\n",
       "      <td>0.000000</td>\n",
       "      <td>1.0</td>\n",
       "      <td>0.000000</td>\n",
       "    </tr>\n",
       "    <tr>\n",
       "      <th>POST</th>\n",
       "      <td>0.070057</td>\n",
       "      <td>0.000000</td>\n",
       "      <td>0.000000</td>\n",
       "      <td>0.000000</td>\n",
       "      <td>0.0</td>\n",
       "      <td>0.000000</td>\n",
       "      <td>0.071209</td>\n",
       "      <td>0.016615</td>\n",
       "      <td>0.028871</td>\n",
       "      <td>0.050098</td>\n",
       "      <td>...</td>\n",
       "      <td>0.031976</td>\n",
       "      <td>0.0</td>\n",
       "      <td>0.017514</td>\n",
       "      <td>0.020569</td>\n",
       "      <td>0.0</td>\n",
       "      <td>0.0</td>\n",
       "      <td>0.0</td>\n",
       "      <td>0.045793</td>\n",
       "      <td>0.0</td>\n",
       "      <td>1.000000</td>\n",
       "    </tr>\n",
       "  </tbody>\n",
       "</table>\n",
       "<p>3684 rows × 3684 columns</p>\n",
       "</div>"
      ],
      "text/plain": [
       "StockCode     10002     10080     10120    10123C  10124A    10124G     10125  \\\n",
       "StockCode                                                                       \n",
       "10002      1.000000  0.000000  0.094868  0.091287     0.0  0.000000  0.090351   \n",
       "10080      0.000000  1.000000  0.000000  0.000000     0.0  0.000000  0.032774   \n",
       "10120      0.094868  0.000000  1.000000  0.115470     0.0  0.000000  0.057143   \n",
       "10123C     0.091287  0.000000  0.115470  1.000000     0.0  0.000000  0.164957   \n",
       "10124A     0.000000  0.000000  0.000000  0.000000     1.0  0.447214  0.063888   \n",
       "...             ...       ...       ...       ...     ...       ...       ...   \n",
       "D          0.000000  0.000000  0.000000  0.000000     0.0  0.000000  0.000000   \n",
       "DOT        0.000000  0.000000  0.000000  0.000000     0.0  0.000000  0.000000   \n",
       "M          0.059423  0.017244  0.075165  0.000000     0.0  0.000000  0.075165   \n",
       "PADS       0.000000  0.000000  0.000000  0.000000     0.0  0.000000  0.000000   \n",
       "POST       0.070057  0.000000  0.000000  0.000000     0.0  0.000000  0.071209   \n",
       "\n",
       "StockCode     10133     10135     11001  ...    90214Y  90214Z  BANK CHARGES  \\\n",
       "StockCode                                ...                                   \n",
       "10002      0.063246  0.098907  0.095346  ...  0.000000     0.0      0.000000   \n",
       "10080      0.045883  0.047836  0.000000  ...  0.000000     0.0      0.000000   \n",
       "10120      0.060000  0.041703  0.060302  ...  0.000000     0.0      0.000000   \n",
       "10123C     0.000000  0.000000  0.000000  ...  0.000000     0.0      0.000000   \n",
       "10124A     0.044721  0.000000  0.000000  ...  0.000000     0.0      0.000000   \n",
       "...             ...       ...       ...  ...       ...     ...           ...   \n",
       "D          0.000000  0.000000  0.000000  ...  0.000000     0.0      0.000000   \n",
       "DOT        0.000000  0.104257  0.150756  ...  0.000000     0.0      0.000000   \n",
       "M          0.067648  0.054855  0.101983  ...  0.000000     0.0      0.071307   \n",
       "PADS       0.050000  0.000000  0.000000  ...  0.000000     0.0      0.000000   \n",
       "POST       0.016615  0.028871  0.050098  ...  0.031976     0.0      0.017514   \n",
       "\n",
       "StockCode        C2  CRUK    D  DOT         M  PADS      POST  \n",
       "StockCode                                                      \n",
       "10002      0.029361   0.0  0.0  0.0  0.059423   0.0  0.070057  \n",
       "10080      0.000000   0.0  0.0  0.0  0.017244   0.0  0.000000  \n",
       "10120      0.000000   0.0  0.0  0.0  0.075165   0.0  0.000000  \n",
       "10123C     0.000000   0.0  0.0  0.0  0.000000   0.0  0.000000  \n",
       "10124A     0.000000   0.0  0.0  0.0  0.000000   0.0  0.000000  \n",
       "...             ...   ...  ...  ...       ...   ...       ...  \n",
       "D          0.000000   0.0  0.0  0.0  0.000000   0.0  0.000000  \n",
       "DOT        0.000000   0.0  0.0  1.0  0.000000   0.0  0.000000  \n",
       "M          0.000000   0.0  0.0  0.0  1.000000   0.0  0.045793  \n",
       "PADS       0.000000   0.0  0.0  0.0  0.000000   1.0  0.000000  \n",
       "POST       0.020569   0.0  0.0  0.0  0.045793   0.0  1.000000  \n",
       "\n",
       "[3684 rows x 3684 columns]"
      ]
     },
     "execution_count": 48,
     "metadata": {},
     "output_type": "execute_result"
    }
   ],
   "source": [
    "item_item_sim_matrix"
   ]
  },
  {
   "cell_type": "markdown",
   "id": "a0b44082-eb24-43f3-ab72-8cc03b9bf6a2",
   "metadata": {},
   "source": [
    "### 2.2.2. Making Recommendations"
   ]
  },
  {
   "cell_type": "code",
   "execution_count": 49,
   "id": "4febc76c-06bc-43b6-a6ec-2d692840f192",
   "metadata": {},
   "outputs": [
    {
     "data": {
      "text/html": [
       "<div>\n",
       "<style scoped>\n",
       "    .dataframe tbody tr th:only-of-type {\n",
       "        vertical-align: middle;\n",
       "    }\n",
       "\n",
       "    .dataframe tbody tr th {\n",
       "        vertical-align: top;\n",
       "    }\n",
       "\n",
       "    .dataframe thead th {\n",
       "        text-align: right;\n",
       "    }\n",
       "</style>\n",
       "<table border=\"1\" class=\"dataframe\">\n",
       "  <thead>\n",
       "    <tr style=\"text-align: right;\">\n",
       "      <th></th>\n",
       "      <th>StockCode</th>\n",
       "      <th>Description</th>\n",
       "    </tr>\n",
       "  </thead>\n",
       "  <tbody>\n",
       "    <tr>\n",
       "      <th>28715</th>\n",
       "      <td>22720</td>\n",
       "      <td>SET OF 3 CAKE TINS PANTRY DESIGN</td>\n",
       "    </tr>\n",
       "    <tr>\n",
       "      <th>61619</th>\n",
       "      <td>23166</td>\n",
       "      <td>MEDIUM CERAMIC TOP STORAGE JAR</td>\n",
       "    </tr>\n",
       "    <tr>\n",
       "      <th>217655</th>\n",
       "      <td>23243</td>\n",
       "      <td>SET OF TEA COFFEE SUGAR TINS PANTRY</td>\n",
       "    </tr>\n",
       "  </tbody>\n",
       "</table>\n",
       "</div>"
      ],
      "text/plain": [
       "       StockCode                          Description\n",
       "28715      22720    SET OF 3 CAKE TINS PANTRY DESIGN \n",
       "61619      23166       MEDIUM CERAMIC TOP STORAGE JAR\n",
       "217655     23243  SET OF TEA COFFEE SUGAR TINS PANTRY"
      ]
     },
     "execution_count": 49,
     "metadata": {},
     "output_type": "execute_result"
    }
   ],
   "source": [
    "df.loc[\n",
    "    df['StockCode'].isin([\"23166\", \"22720\", \"23243\"]), \n",
    "    ['StockCode', 'Description']\n",
    "].drop_duplicates()"
   ]
  },
  {
   "cell_type": "code",
   "execution_count": 50,
   "id": "e0f0b36b-3fdb-4f87-b154-dd3b1daf74cb",
   "metadata": {},
   "outputs": [
    {
     "data": {
      "text/plain": [
       "StockCode\n",
       "23243    0.593115\n",
       "22720    0.592794\n",
       "23166    0.499390\n",
       "22722    0.417434\n",
       "23165    0.403306\n",
       "22666    0.369518\n",
       "23167    0.364973\n",
       "23245    0.322518\n",
       "22993    0.320600\n",
       "22961    0.305328\n",
       "dtype: float64"
      ]
     },
     "execution_count": 50,
     "metadata": {},
     "output_type": "execute_result"
    }
   ],
   "source": [
    "item_item_sim_matrix[[\"23166\", \"22720\", \"23243\"]].mean(axis=1).sort_values(ascending=False).head(10)"
   ]
  },
  {
   "cell_type": "code",
   "execution_count": 51,
   "id": "4fc03b6a-9800-4d66-a514-62968aae1e32",
   "metadata": {},
   "outputs": [
    {
     "data": {
      "text/html": [
       "<div>\n",
       "<style scoped>\n",
       "    .dataframe tbody tr th:only-of-type {\n",
       "        vertical-align: middle;\n",
       "    }\n",
       "\n",
       "    .dataframe tbody tr th {\n",
       "        vertical-align: top;\n",
       "    }\n",
       "\n",
       "    .dataframe thead th {\n",
       "        text-align: right;\n",
       "    }\n",
       "</style>\n",
       "<table border=\"1\" class=\"dataframe\">\n",
       "  <thead>\n",
       "    <tr style=\"text-align: right;\">\n",
       "      <th></th>\n",
       "      <th>StockCode</th>\n",
       "      <th>Description</th>\n",
       "    </tr>\n",
       "  </thead>\n",
       "  <tbody>\n",
       "    <tr>\n",
       "      <th>105</th>\n",
       "      <td>22961</td>\n",
       "      <td>JAM MAKING SET PRINTED</td>\n",
       "    </tr>\n",
       "    <tr>\n",
       "      <th>1296</th>\n",
       "      <td>22666</td>\n",
       "      <td>RECIPE BOX PANTRY YELLOW DESIGN</td>\n",
       "    </tr>\n",
       "    <tr>\n",
       "      <th>28714</th>\n",
       "      <td>22722</td>\n",
       "      <td>SET OF 6 SPICE TINS PANTRY DESIGN</td>\n",
       "    </tr>\n",
       "    <tr>\n",
       "      <th>92216</th>\n",
       "      <td>22993</td>\n",
       "      <td>SET OF 4 PANTRY JELLY MOULDS</td>\n",
       "    </tr>\n",
       "    <tr>\n",
       "      <th>185919</th>\n",
       "      <td>23167</td>\n",
       "      <td>SMALL CERAMIC TOP STORAGE JAR</td>\n",
       "    </tr>\n",
       "    <tr>\n",
       "      <th>186769</th>\n",
       "      <td>23165</td>\n",
       "      <td>LARGE CERAMIC TOP STORAGE JAR</td>\n",
       "    </tr>\n",
       "    <tr>\n",
       "      <th>218146</th>\n",
       "      <td>23245</td>\n",
       "      <td>SET OF 3 REGENCY CAKE TINS</td>\n",
       "    </tr>\n",
       "  </tbody>\n",
       "</table>\n",
       "</div>"
      ],
      "text/plain": [
       "       StockCode                        Description\n",
       "105        22961             JAM MAKING SET PRINTED\n",
       "1296       22666    RECIPE BOX PANTRY YELLOW DESIGN\n",
       "28714      22722  SET OF 6 SPICE TINS PANTRY DESIGN\n",
       "92216      22993       SET OF 4 PANTRY JELLY MOULDS\n",
       "185919     23167     SMALL CERAMIC TOP STORAGE JAR \n",
       "186769     23165      LARGE CERAMIC TOP STORAGE JAR\n",
       "218146     23245         SET OF 3 REGENCY CAKE TINS"
      ]
     },
     "execution_count": 51,
     "metadata": {},
     "output_type": "execute_result"
    }
   ],
   "source": [
    "rec_items = [x for x in item_item_sim_matrix[[\"23166\", \"22720\", \"23243\"]].mean(axis=1).sort_values(ascending=False).head(10).index if x not in [\"23166\", \"22720\", \"23243\"]]\n",
    "\n",
    "df.loc[\n",
    "    df['StockCode'].isin(rec_items), \n",
    "    ['StockCode', 'Description']\n",
    "].drop_duplicates()"
   ]
  },
  {
   "cell_type": "markdown",
   "id": "0e415df6-8ecf-4f34-bc75-87f7a07fa04b",
   "metadata": {},
   "source": [
    "# 3. Others\n",
    "\n",
    "- Trending (Now, 1 week, 1 month, etc.)\n",
    "- Best Sellers (All time, past month, past year, etc.)"
   ]
  },
  {
   "cell_type": "code",
   "execution_count": null,
   "id": "7e7320c8-24da-4898-8f75-504c65dccde4",
   "metadata": {},
   "outputs": [],
   "source": []
  }
 ],
 "metadata": {
  "kernelspec": {
   "display_name": "Python 3 (ipykernel)",
   "language": "python",
   "name": "python3"
  },
  "language_info": {
   "codemirror_mode": {
    "name": "ipython",
    "version": 3
   },
   "file_extension": ".py",
   "mimetype": "text/x-python",
   "name": "python",
   "nbconvert_exporter": "python",
   "pygments_lexer": "ipython3",
   "version": "3.10.9"
  }
 },
 "nbformat": 4,
 "nbformat_minor": 5
}
